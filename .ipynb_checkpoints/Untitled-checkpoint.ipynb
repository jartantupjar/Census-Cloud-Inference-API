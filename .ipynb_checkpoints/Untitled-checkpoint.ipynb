{
 "cells": [
  {
   "cell_type": "code",
   "execution_count": 1,
   "id": "dfa8e221",
   "metadata": {},
   "outputs": [],
   "source": [
    "from starter.ml import data as datautils\n",
    "from starter.ml import model as mlutils\n",
    "from sklearn.model_selection import train_test_split\n",
    "import pandas as pd\n",
    "import numpy as np\n",
    "#initialize values\n",
    "path='data/census_cleaned.csv'\n",
    "slice_output_path=\"slice_output.txt\"\n",
    "category_to_slice='workclass'\n",
    "# Add code to load in the data.\n",
    "data=pd.read_csv(path)\n",
    "\n",
    "#additional preprocessing because '?' adds an uncessary amount of uncertainty to the model:\n",
    "data=data.replace('?',np.nan)\n",
    "data=data.dropna()\n",
    "\n",
    "# Optional enhancement, use K-fold cross validation instead of a train-test split.\n",
    "train, test = train_test_split(data, test_size=0.20, random_state=42)\n",
    "cat_features = [\n",
    "    \"workclass\",\n",
    "    \"education\",\n",
    "    \"marital-status\",\n",
    "    \"occupation\",\n",
    "    \"relationship\",\n",
    "    \"race\",\n",
    "    \"sex\",\n",
    "    \"native-country\",\n",
    "]\n",
    "# Process the train data with the process_data function.\n",
    "X_train, y_train, encoder, lb = datautils.process_data(\n",
    "    train, categorical_features=cat_features, label=\"salary\", training=True\n",
    ")\n",
    "\n",
    "# Process the test data with the process_data function.\n",
    "X_test,y_test,_,_= datautils.process_data(test,cat_features,\"salary\", training=False ,encoder=encoder, lb=lb)\n",
    "\n",
    "\n",
    "# Train and save a model.\n",
    "model=mlutils.train_model(X_train,y_train)\n",
    "\n",
    "#run inference on train\n",
    "y_train_pred=mlutils.inference(model,X_train)\n",
    "train_results=mlutils.compute_model_metrics(y_train,y_train_pred)\n",
    "\n",
    "#run inference on test\n",
    "y_test_pred=mlutils.inference(model,X_test)\n",
    "test_results=mlutils.compute_model_metrics(y_test,y_test_pred)\n",
    "\n",
    "# Process the test data with the process_data function.\n",
    "X_test,y_test,_,_= datautils.process_data(test,cat_features,\"salary\", training=False ,\n",
    "                                encoder=encoder, lb=lb)\n",
    "#compute metrics based on the column/feature selected\n",
    "slice_metrics_df=mlutils.compute_model_metrics_on_slices(category_to_slice,test,y_test,y_test_pred,slice_output_path)"
   ]
  },
  {
   "cell_type": "code",
   "execution_count": 2,
   "id": "cabba91f",
   "metadata": {},
   "outputs": [
    {
     "data": {
      "text/plain": [
       "(0.7321428571428571, 0.6431372549019608, 0.6847599164926931)"
      ]
     },
     "execution_count": 2,
     "metadata": {},
     "output_type": "execute_result"
    }
   ],
   "source": [
    "test_results"
   ]
  },
  {
   "cell_type": "code",
   "execution_count": 7,
   "id": "e90ecc0d",
   "metadata": {},
   "outputs": [
    {
     "data": {
      "text/plain": [
       "(0.8029556650246306, 0.622533418204965, 0.7013266403728936)"
      ]
     },
     "execution_count": 7,
     "metadata": {},
     "output_type": "execute_result"
    }
   ],
   "source": [
    "test_results"
   ]
  },
  {
   "cell_type": "code",
   "execution_count": 15,
   "id": "4d38dc54",
   "metadata": {},
   "outputs": [
    {
     "data": {
      "text/plain": [
       "array(['State-gov', 'Self-emp-not-inc', 'Private', 'Federal-gov',\n",
       "       'Local-gov', 'Self-emp-inc', 'Without-pay'], dtype=object)"
      ]
     },
     "execution_count": 15,
     "metadata": {},
     "output_type": "execute_result"
    }
   ],
   "source": [
    "data['workclass'].unique()"
   ]
  },
  {
   "cell_type": "code",
   "execution_count": 16,
   "id": "e142257a",
   "metadata": {},
   "outputs": [
    {
     "data": {
      "text/html": [
       "<div>\n",
       "<style scoped>\n",
       "    .dataframe tbody tr th:only-of-type {\n",
       "        vertical-align: middle;\n",
       "    }\n",
       "\n",
       "    .dataframe tbody tr th {\n",
       "        vertical-align: top;\n",
       "    }\n",
       "\n",
       "    .dataframe thead th {\n",
       "        text-align: right;\n",
       "    }\n",
       "</style>\n",
       "<table border=\"1\" class=\"dataframe\">\n",
       "  <thead>\n",
       "    <tr style=\"text-align: right;\">\n",
       "      <th></th>\n",
       "      <th>column</th>\n",
       "      <th>slice</th>\n",
       "      <th>precision</th>\n",
       "      <th>recall</th>\n",
       "      <th>fbeta</th>\n",
       "    </tr>\n",
       "  </thead>\n",
       "  <tbody>\n",
       "    <tr>\n",
       "      <th>0</th>\n",
       "      <td>workclass</td>\n",
       "      <td>Local-gov</td>\n",
       "      <td>0.827586</td>\n",
       "      <td>0.755906</td>\n",
       "      <td>0.790123</td>\n",
       "    </tr>\n",
       "    <tr>\n",
       "      <th>1</th>\n",
       "      <td>workclass</td>\n",
       "      <td>Private</td>\n",
       "      <td>0.813110</td>\n",
       "      <td>0.590679</td>\n",
       "      <td>0.684272</td>\n",
       "    </tr>\n",
       "    <tr>\n",
       "      <th>2</th>\n",
       "      <td>workclass</td>\n",
       "      <td>Federal-gov</td>\n",
       "      <td>0.784615</td>\n",
       "      <td>0.708333</td>\n",
       "      <td>0.744526</td>\n",
       "    </tr>\n",
       "    <tr>\n",
       "      <th>3</th>\n",
       "      <td>workclass</td>\n",
       "      <td>State-gov</td>\n",
       "      <td>0.807018</td>\n",
       "      <td>0.676471</td>\n",
       "      <td>0.736000</td>\n",
       "    </tr>\n",
       "    <tr>\n",
       "      <th>4</th>\n",
       "      <td>workclass</td>\n",
       "      <td>Self-emp-not-inc</td>\n",
       "      <td>0.747826</td>\n",
       "      <td>0.540881</td>\n",
       "      <td>0.627737</td>\n",
       "    </tr>\n",
       "    <tr>\n",
       "      <th>5</th>\n",
       "      <td>workclass</td>\n",
       "      <td>Self-emp-inc</td>\n",
       "      <td>0.868421</td>\n",
       "      <td>0.785714</td>\n",
       "      <td>0.825000</td>\n",
       "    </tr>\n",
       "    <tr>\n",
       "      <th>6</th>\n",
       "      <td>workclass</td>\n",
       "      <td>Without-pay</td>\n",
       "      <td>1.000000</td>\n",
       "      <td>1.000000</td>\n",
       "      <td>1.000000</td>\n",
       "    </tr>\n",
       "  </tbody>\n",
       "</table>\n",
       "</div>"
      ],
      "text/plain": [
       "      column             slice  precision    recall     fbeta\n",
       "0  workclass         Local-gov   0.827586  0.755906  0.790123\n",
       "1  workclass           Private   0.813110  0.590679  0.684272\n",
       "2  workclass       Federal-gov   0.784615  0.708333  0.744526\n",
       "3  workclass         State-gov   0.807018  0.676471  0.736000\n",
       "4  workclass  Self-emp-not-inc   0.747826  0.540881  0.627737\n",
       "5  workclass      Self-emp-inc   0.868421  0.785714  0.825000\n",
       "6  workclass       Without-pay   1.000000  1.000000  1.000000"
      ]
     },
     "execution_count": 16,
     "metadata": {},
     "output_type": "execute_result"
    }
   ],
   "source": [
    "slice_metrics_df"
   ]
  },
  {
   "cell_type": "code",
   "execution_count": 9,
   "id": "c56921f1",
   "metadata": {},
   "outputs": [
    {
     "data": {
      "text/plain": [
       "(26048, 109)"
      ]
     },
     "execution_count": 9,
     "metadata": {},
     "output_type": "execute_result"
    }
   ],
   "source": [
    "X_train.shape"
   ]
  }
 ],
 "metadata": {
  "kernelspec": {
   "display_name": "Python 3 (ipykernel)",
   "language": "python",
   "name": "python3"
  },
  "language_info": {
   "codemirror_mode": {
    "name": "ipython",
    "version": 3
   },
   "file_extension": ".py",
   "mimetype": "text/x-python",
   "name": "python",
   "nbconvert_exporter": "python",
   "pygments_lexer": "ipython3",
   "version": "3.9.12"
  }
 },
 "nbformat": 4,
 "nbformat_minor": 5
}
